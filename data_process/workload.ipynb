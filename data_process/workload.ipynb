{
 "cells": [
  {
   "cell_type": "code",
   "execution_count": 1,
   "id": "7102ac05",
   "metadata": {},
   "outputs": [],
   "source": [
    "import pandas as pd\n",
    "import numpy as np"
   ]
  },
  {
   "cell_type": "code",
   "execution_count": 2,
   "id": "43b4bf28",
   "metadata": {},
   "outputs": [],
   "source": [
    "workload_dataset=pd.read_csv(\"data.csv\")"
   ]
  },
  {
   "cell_type": "code",
   "execution_count": null,
   "id": "0f5d2dcb",
   "metadata": {},
   "outputs": [
    {
     "name": "stdout",
     "output_type": "stream",
     "text": [
      "0.0 %\n"
     ]
    },
    {
     "name": "stderr",
     "output_type": "stream",
     "text": [
      "C:\\ProgramData\\Anaconda3\\lib\\site-packages\\pandas\\core\\indexing.py:189: SettingWithCopyWarning: \n",
      "A value is trying to be set on a copy of a slice from a DataFrame\n",
      "\n",
      "See the caveats in the documentation: http://pandas.pydata.org/pandas-docs/stable/indexing.html#indexing-view-versus-copy\n",
      "  self._setitem_with_indexer(indexer, value)\n"
     ]
    },
    {
     "name": "stdout",
     "output_type": "stream",
     "text": [
      "0.0011818514885419498 %\n",
      "0.0023637029770838995 %\n",
      "0.0035455544656258493 %\n",
      "0.004727405954167799 %\n",
      "0.005909257442709749 %\n",
      "0.007091108931251699 %\n",
      "0.008272960419793649 %\n",
      "0.009454811908335598 %\n",
      "0.010636663396877548 %\n",
      "0.011818514885419499 %\n",
      "0.013000366373961448 %\n",
      "0.014182217862503397 %\n",
      "0.015364069351045348 %\n",
      "0.016545920839587298 %\n",
      "0.01772777232812925 %\n",
      "0.018909623816671196 %\n",
      "0.020091475305213147 %\n",
      "0.021273326793755095 %\n",
      "0.022455178282297046 %\n",
      "0.023637029770838997 %\n",
      "0.024818881259380945 %\n",
      "0.026000732747922896 %\n",
      "0.027182584236464847 %\n",
      "0.028364435725006795 %\n",
      "0.029546287213548746 %\n",
      "0.030728138702090697 %\n",
      "0.03190999019063265 %\n",
      "0.033091841679174595 %\n",
      "0.03427369316771654 %\n",
      "0.0354555446562585 %\n",
      "0.036637396144800445 %\n",
      "0.03781924763334239 %\n",
      "0.03900109912188435 %\n",
      "0.040182950610426295 %\n",
      "0.04136480209896824 %\n",
      "0.04254665358751019 %\n",
      "0.043728505076052145 %\n",
      "0.04491035656459409 %\n",
      "0.04609220805313604 %\n",
      "0.047274059541677994 %\n",
      "0.04845591103021994 %\n",
      "0.04963776251876189 %\n",
      "0.050819614007303844 %\n",
      "0.05200146549584579 %\n",
      "0.05318331698438774 %\n",
      "0.054365168472929694 %\n",
      "0.05554701996147164 %\n",
      "0.05672887145001359 %\n",
      "0.057910722938555544 %\n",
      "0.05909257442709749 %\n",
      "0.06027442591563944 %\n",
      "0.06145627740418139 %\n",
      "0.06263812889272334 %\n",
      "0.0638199803812653 %\n",
      "0.06500183186980724 %\n",
      "0.06618368335834919 %\n",
      "0.06736553484689115 %\n",
      "0.06854738633543309 %\n",
      "0.06972923782397504 %\n",
      "0.070911089312517 %\n",
      "0.07209294080105894 %\n",
      "0.07327479228960089 %\n",
      "0.07445664377814284 %\n",
      "0.07563849526668479 %\n",
      "0.07682034675522674 %\n",
      "0.0780021982437687 %\n",
      "0.07918404973231064 %\n",
      "0.08036590122085259 %\n",
      "0.08154775270939454 %\n",
      "0.08272960419793648 %\n",
      "0.08391145568647844 %\n",
      "0.08509330717502038 %\n",
      "0.08627515866356233 %\n",
      "0.08745701015210429 %\n",
      "0.08863886164064623 %\n",
      "0.08982071312918818 %\n",
      "0.09100256461773014 %\n",
      "0.09218441610627208 %\n"
     ]
    }
   ],
   "source": [
    "tick_list=[]\n",
    "columns_list=[\"time\",\"num_0\",\"CPU_usage_0\",\"RAM_usage_0\",\"num_1\",\"CPU_usage_1\",\"RAM_usage_1\",\"num_2\",\"CPU_usage_2\",\"RAM_usage_2\"]\n",
    "# load_info=pd.DataFrame(columns=columns_list)\n",
    "load_info_np=np.zeros((96,10))\n",
    "load_info=pd.DataFrame(load_info_np)\n",
    "load_info.columns=columns_list\n",
    "load_info[\"time\"]=list(range(96))\n",
    "for i in range(96):\n",
    "    tick=105000000000+(i+1)*900*1000000\n",
    "    tick_list.append(tick)\n",
    "j=0\n",
    "for i in range(len(workload_dataset)):\n",
    "    if workload_dataset[\"timestamp\"].iloc[i]<tick_list[j]:\n",
    "        pass\n",
    "    else:\n",
    "        j=j+1\n",
    "    if(i%100==0):\n",
    "        print(i/13664510 ,\"%\")\n",
    "    if workload_dataset[\"priority\"].iloc[i]<2:\n",
    "        load_info[\"num_0\"].iloc[j]+=1\n",
    "        load_info[\"CPU_usage_0\"].iloc[j]+=workload_dataset[\"CPU_request\"].iloc[i]\n",
    "        load_info[\"RAM_usage_0\"].iloc[j]+=workload_dataset[\"RAM_request\"].iloc[i]\n",
    "    elif workload_dataset[\"priority\"].iloc[i]<8:\n",
    "        load_info[\"num_1\"].iloc[j]+=1\n",
    "        load_info[\"CPU_usage_1\"].iloc[j]+=workload_dataset[\"CPU_request\"].iloc[i]\n",
    "        load_info[\"RAM_usage_1\"].iloc[j]+=workload_dataset[\"RAM_request\"].iloc[i]\n",
    "    else:\n",
    "        load_info[\"num_2\"].iloc[j]+=1\n",
    "        load_info[\"CPU_usage_2\"].iloc[j]+=workload_dataset[\"CPU_request\"].iloc[i]\n",
    "        load_info[\"RAM_usage_2\"].iloc[j]+=workload_dataset[\"RAM_request\"].iloc[i]"
   ]
  },
  {
   "cell_type": "code",
   "execution_count": null,
   "id": "e1d7219d",
   "metadata": {},
   "outputs": [],
   "source": [
    "load_info"
   ]
  },
  {
   "cell_type": "code",
   "execution_count": null,
   "id": "8bf4bcd1",
   "metadata": {},
   "outputs": [],
   "source": [
    "load_info.to_csv(\"load_info.csv\",sep=',',index=False,header=True)"
   ]
  }
 ],
 "metadata": {
  "kernelspec": {
   "display_name": "Python [conda env:root] *",
   "language": "python",
   "name": "conda-root-py"
  },
  "language_info": {
   "codemirror_mode": {
    "name": "ipython",
    "version": 3
   },
   "file_extension": ".py",
   "mimetype": "text/x-python",
   "name": "python",
   "nbconvert_exporter": "python",
   "pygments_lexer": "ipython3",
   "version": "3.6.13"
  }
 },
 "nbformat": 4,
 "nbformat_minor": 5
}
